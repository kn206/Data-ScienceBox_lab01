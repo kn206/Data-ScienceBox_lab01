{
  "nbformat": 4,
  "nbformat_minor": 0,
  "metadata": {
    "colab": {
      "provenance": [],
      "authorship_tag": "ABX9TyPBDLwUABcZmW6kVHqcBWNI",
      "include_colab_link": true
    },
    "kernelspec": {
      "name": "python3",
      "display_name": "Python 3"
    },
    "language_info": {
      "name": "python"
    }
  },
  "cells": [
    {
      "cell_type": "markdown",
      "metadata": {
        "id": "view-in-github",
        "colab_type": "text"
      },
      "source": [
        "<a href=\"https://colab.research.google.com/github/kn206/Data-ScienceBox_lab01/blob/master/IPO_algorithm.ipynb\" target=\"_parent\"><img src=\"https://colab.research.google.com/assets/colab-badge.svg\" alt=\"Open In Colab\"/></a>"
      ]
    },
    {
      "cell_type": "code",
      "source": [
        "# Logic Exercise\n",
        "# Problem: Determine each person's job - project manager, consultant, programmer\n",
        "\n",
        "# Given information:\n",
        "# Brown, Jones, and Smith are three friends.\n",
        "# One is a project manager, one is a consultant, and one is a programmer.\n",
        "# The programmer, who is an only child, earns the least money.\n",
        "# Smith, who married Brown's sister, earns more than the consultant.\n",
        "\n",
        "# Solution:\n",
        "# Let's analyze the information and make deductions.\n",
        "\n",
        "# Deductions:\n",
        "# - The programmer is an only child, so he cannot be married to anyone.\n",
        "# - Smith, who married Brown's sister, cannot be the programmer.\n",
        "# - This leaves us with two possibilities - Smith and Brown for the positions of project manager and consultant.\n",
        "# - Let's assume Smith is the project manager and Brown is the consultant.\n",
        "# - Since Smith earns more than the consultant, Brown must be the consultant.\n",
        "\n",
        "# Final Solution:\n",
        "# - Brown is the consultant.\n",
        "# - Smith is the project manager.\n",
        "# - Jones is the programmer.\n",
        "\n",
        "# Algorithms\n",
        "# ------------------------\n",
        "\n",
        "# Algorithm with IPO (Input, Processing, Output)\n",
        "# Problem: Calculate the brew ratio of coffee.\n",
        "\n",
        "# Input\n",
        "dose = float(input(\"Enter the dose (in grams): \"))\n",
        "yield_ = float(input(\"Enter the yield (in grams): \"))\n",
        "\n",
        "# Processing\n",
        "brew_ratio = dose / yield_\n",
        "\n",
        "# Output\n",
        "print(f\"A dose of {dose}g and yield of {yield_}g is a {brew_ratio:.2f} brew ratio.\")\n",
        "\n",
        "# ------------------------\n",
        "\n",
        "# Algorithm with Decision\n",
        "# Problem: Determine if you can afford to buy an item based on its price and the money you have in your pocket.\n",
        "\n",
        "# Algorithm with Decision\n",
        "# Problem: Determine if you can afford to buy an item based on its price and the money you have in your pocket.\n",
        "\n",
        "# Input\n",
        "item_price = float(input(\"Enter the price of the item: \"))\n",
        "money_in_pocket = float(input(\"Enter the money you have in your pocket: \"))\n",
        "\n",
        "# Processing and Decision\n",
        "if money_in_pocket >= item_price:\n",
        "    print(\"You can afford to buy the item.\")\n",
        "else:\n",
        "    print(\"You cannot afford to buy the item.\")\n",
        "\n",
        "# ------------------------\n",
        "\n",
        "# Algorithm with Repetition\n",
        "# Problem: Instruct a teenager how to clean their room.\n",
        "\n",
        "# Instructions\n",
        "print(\"Instructions for a teenager to clean their room:\")\n",
        "print(\"Start picking up things from the floor.\")\n",
        "things_on_floor = True\n",
        "\n",
        "while things_on_floor:\n",
        "    user_input = input(\"Is there still anything on the floor? (yes/no): \").lower()\n",
        "    if user_input == \"no\":\n",
        "        things_on_floor = False\n",
        "\n",
        "print(\"The room is now clean.\")\n"
      ],
      "metadata": {
        "colab": {
          "base_uri": "https://localhost:8080/"
        },
        "id": "jQyhEN1X4nxm",
        "outputId": "c00221d8-b6d1-4ab6-ff24-7806867c2c35"
      },
      "execution_count": 5,
      "outputs": [
        {
          "output_type": "stream",
          "name": "stdout",
          "text": [
            "Enter the dose (in grams): 6\n",
            "Enter the yield (in grams): 7\n",
            "A dose of 6.0g and yield of 7.0g is a 0.86 brew ratio.\n",
            "Enter the price of the item: 89\n",
            "Enter the money you have in your pocket: 100\n",
            "You can afford to buy the item.\n",
            "Instructions for a teenager to clean their room:\n",
            "Start picking up things from the floor.\n",
            "Is there still anything on the floor? (yes/no): no\n",
            "The room is now clean.\n"
          ]
        }
      ]
    }
  ]
}